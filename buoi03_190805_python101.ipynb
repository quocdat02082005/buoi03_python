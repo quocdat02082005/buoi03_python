{
  "nbformat": 4,
  "nbformat_minor": 0,
  "metadata": {
    "colab": {
      "provenance": [],
      "mount_file_id": "13CcULpzRKZtlNvn0Q4F4aEnUwryHP7KY",
      "authorship_tag": "ABX9TyN4UW8v5FouEc+whwJlWn5z",
      "include_colab_link": true
    },
    "kernelspec": {
      "name": "python3",
      "display_name": "Python 3"
    },
    "language_info": {
      "name": "python"
    }
  },
  "cells": [
    {
      "cell_type": "markdown",
      "metadata": {
        "id": "view-in-github",
        "colab_type": "text"
      },
      "source": [
        "<a href=\"https://colab.research.google.com/github/quocdat02082005/buoi03_python/blob/main/buoi03_190805_python101.ipynb\" target=\"_parent\"><img src=\"https://colab.research.google.com/assets/colab-badge.svg\" alt=\"Open In Colab\"/></a>"
      ]
    },
    {
      "cell_type": "markdown",
      "source": [
        "# Python 101"
      ],
      "metadata": {
        "id": "mfneS5yj0Rjn"
      }
    },
    {
      "cell_type": "markdown",
      "source": [
        "## compiler"
      ],
      "metadata": {
        "id": "dBlnNCle0bHL"
      }
    },
    {
      "cell_type": "code",
      "source": [
        "%%writefile first.cpp\n",
        "#include <stdio.h>\n",
        "int main(void) {\n",
        "  int a=27, b=6, c;\n",
        "  c = a%b;\n",
        "  printf(\"The value of c is %d.\\n\", c);\n",
        "  return 0;\n",
        "}"
      ],
      "metadata": {
        "colab": {
          "base_uri": "https://localhost:8080/"
        },
        "id": "2vFPmqf31eoW",
        "outputId": "8a4ce689-6eb3-4298-e792-55bbf2676409"
      },
      "execution_count": 25,
      "outputs": [
        {
          "output_type": "stream",
          "name": "stdout",
          "text": [
            "Overwriting first.cpp\n"
          ]
        }
      ]
    },
    {
      "cell_type": "code",
      "source": [
        "!cat first.cpp\n",
        "print(\"-\"*50)\n",
        "\n",
        "print('Compile...')\n",
        "!gcc first.cpp -o first\n",
        "!ls\n",
        "\n",
        "print(\"-\"*50)\n",
        "print('Execute...')\n",
        "!./first"
      ],
      "metadata": {
        "colab": {
          "base_uri": "https://localhost:8080/"
        },
        "id": "CFSWx3Nf2Zpd",
        "outputId": "299b9bb3-7811-480d-c123-d307bed9732f"
      },
      "execution_count": 26,
      "outputs": [
        {
          "output_type": "stream",
          "name": "stdout",
          "text": [
            "#include <stdio.h>\n",
            "int main(void) {\n",
            "  int a=27, b=6, c;\n",
            "  c = a%b;\n",
            "  printf(\"The value of c is %d.\\n\", c);\n",
            "  return 0;\n",
            "}\n",
            "--------------------------------------------------\n",
            "Compile...\n",
            "drive  first  first.cpp  first.py  sample_data\n",
            "--------------------------------------------------\n",
            "Execute...\n",
            "The value of c is 3.\n"
          ]
        }
      ]
    },
    {
      "cell_type": "code",
      "source": [
        "%%writefile first.py\n",
        "a = 27\n",
        "b = 6\n",
        "c = a%b;\n",
        "print(\"The value of c is %d.\\n\"% c)"
      ],
      "metadata": {
        "colab": {
          "base_uri": "https://localhost:8080/"
        },
        "id": "9N56jYRh2eHi",
        "outputId": "357744a9-7f78-445a-ded7-2edd2ba3260b"
      },
      "execution_count": 27,
      "outputs": [
        {
          "output_type": "stream",
          "name": "stdout",
          "text": [
            "Overwriting first.py\n"
          ]
        }
      ]
    },
    {
      "cell_type": "markdown",
      "source": [
        "## Ngon ngu lap trinh"
      ],
      "metadata": {
        "id": "yyKmzLxN4fhA"
      }
    },
    {
      "cell_type": "markdown",
      "source": [
        "Kết thúc"
      ],
      "metadata": {
        "id": "asuglJDA0PbG"
      }
    },
    {
      "cell_type": "code",
      "source": [
        "from IPython.display import display"
      ],
      "metadata": {
        "id": "nQnG0Iec4l_6"
      },
      "execution_count": 28,
      "outputs": []
    },
    {
      "cell_type": "code",
      "source": [
        "print(\"Hello, World!\")\n",
        "display ('Hello, World!')"
      ],
      "metadata": {
        "colab": {
          "base_uri": "https://localhost:8080/",
          "height": 52
        },
        "id": "-85bDjxz4ios",
        "outputId": "7a890c43-5e43-428c-e280-5b2ae69576d2"
      },
      "execution_count": 29,
      "outputs": [
        {
          "output_type": "stream",
          "name": "stdout",
          "text": [
            "Hello, World!\n"
          ]
        },
        {
          "output_type": "display_data",
          "data": {
            "text/plain": [
              "'Hello, World!'"
            ],
            "application/vnd.google.colaboratory.intrinsic+json": {
              "type": "string"
            }
          },
          "metadata": {}
        }
      ]
    },
    {
      "cell_type": "code",
      "source": [],
      "metadata": {
        "id": "fyShIWgd4u9m"
      },
      "execution_count": null,
      "outputs": []
    }
  ]
}